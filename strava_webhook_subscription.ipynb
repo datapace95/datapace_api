{
 "cells": [
  {
   "cell_type": "code",
   "execution_count": null,
   "id": "25821791",
   "metadata": {},
   "outputs": [
    {
     "name": "stdout",
     "output_type": "stream",
     "text": [
      "Status code: 400\n",
      "Response JSON: {'message': 'Bad Request', 'errors': [{'resource': 'PushSubscription', 'field': 'subscription', 'code': 'already exists'}]}\n"
     ]
    }
   ],
   "source": [
    "import requests\n",
    "\n",
    "url = \"https://www.strava.com/api/v3/push_subscriptions\"\n",
    "\n",
    "payload = {\n",
    "    \"client_id\": \"blabla\",\n",
    "    \"client_secret\": \"blabla\",\n",
    "    \"callback_url\": \"https://datapace-api-424544346751.us-central1.run.app/strava_webhook\",\n",
    "    \"verify_token\": \"STRAVA\"\n",
    "}\n",
    "\n",
    "response = requests.post(url, data=payload)\n",
    "\n",
    "print(f\"Status code: {response.status_code}\")\n",
    "print(\"Response JSON:\", response.json())"
   ]
  }
 ],
 "metadata": {
  "kernelspec": {
   "display_name": "Python 3",
   "language": "python",
   "name": "python3"
  },
  "language_info": {
   "codemirror_mode": {
    "name": "ipython",
    "version": 3
   },
   "file_extension": ".py",
   "mimetype": "text/x-python",
   "name": "python",
   "nbconvert_exporter": "python",
   "pygments_lexer": "ipython3",
   "version": "3.11.5"
  }
 },
 "nbformat": 4,
 "nbformat_minor": 5
}
